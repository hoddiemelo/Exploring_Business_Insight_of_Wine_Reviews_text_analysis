{
 "cells": [
  {
   "cell_type": "code",
   "execution_count": 1,
   "metadata": {},
   "outputs": [
    {
     "name": "stderr",
     "output_type": "stream",
     "text": [
      "C:\\Users\\HoddieMelo\\Anaconda3\\lib\\site-packages\\gensim\\utils.py:1197: UserWarning: detected Windows; aliasing chunkize to chunkize_serial\n",
      "  warnings.warn(\"detected Windows; aliasing chunkize to chunkize_serial\")\n"
     ]
    }
   ],
   "source": [
    "import pandas as pd #deal with excel \n",
    "import gensim\n",
    "from gensim import corpora,models"
   ]
  },
  {
   "cell_type": "code",
   "execution_count": 2,
   "metadata": {
    "collapsed": true
   },
   "outputs": [],
   "source": [
    "df = pd.read_csv('win_1k.csv')"
   ]
  },
  {
   "cell_type": "code",
   "execution_count": 3,
   "metadata": {
    "collapsed": true
   },
   "outputs": [],
   "source": [
    "reviews = df['description'].tolist()"
   ]
  },
  {
   "cell_type": "code",
   "execution_count": 4,
   "metadata": {
    "collapsed": true
   },
   "outputs": [],
   "source": [
    "import string\n",
    "\n",
    "new_reviews = []\n",
    "for review in reviews: \n",
    "    for ch in review:\n",
    "        if ch in string.punctuation:\n",
    "            review = review.replace(ch,'') #replace punctuation with nothing\n",
    "        if ch == '\\r':\n",
    "            review = review.replace(ch,' ') #replace \\r with space\n",
    "    new_reviews.append(review) \n"
   ]
  },
  {
   "cell_type": "code",
   "execution_count": 5,
   "metadata": {
    "collapsed": true
   },
   "outputs": [],
   "source": [
    "from nltk.corpus import stopwords\n",
    "mystopwords = stopwords.words('english')\n",
    "\n",
    "tokens_list = [[word for word in review.lower().split(' ') if word not in mystopwords and word.isalpha()]\n",
    "         for review in new_reviews]\n",
    "\n",
    "#remove words that appear only once\n",
    "from collections import defaultdict\n",
    "frequency = defaultdict(int)\n",
    "\n",
    "for tokens in tokens_list:\n",
    "    for token in tokens:\n",
    "        frequency[token] += 1\n",
    "        \n",
    "tokens_list = [[token for token in tokens if frequency[token]>1]\n",
    "              for tokens in tokens_list]\n"
   ]
  },
  {
   "cell_type": "code",
   "execution_count": 6,
   "metadata": {},
   "outputs": [
    {
     "name": "stdout",
     "output_type": "stream",
     "text": [
      "Dictionary(1970 unique tokens: ['acidity', 'alongside', 'apple', 'aromas', 'brisk']...)\n"
     ]
    }
   ],
   "source": [
    "# generate token dictionary class\n",
    "dictionary = corpora.Dictionary(tokens_list) \n",
    "print(dictionary)"
   ]
  },
  {
   "cell_type": "code",
   "execution_count": 7,
   "metadata": {
    "collapsed": true
   },
   "outputs": [],
   "source": [
    "# generate a unique token list \n",
    "sort_token = sorted(dictionary.items(),key=lambda k:k[0], reverse = False)\n",
    "unique_token = [token for (ID,token) in sort_token]"
   ]
  },
  {
   "cell_type": "code",
   "execution_count": 8,
   "metadata": {
    "collapsed": true
   },
   "outputs": [],
   "source": [
    "# build a corpus\n",
    "corpus = [dictionary.doc2bow(tokens) for tokens in tokens_list]"
   ]
  },
  {
   "cell_type": "code",
   "execution_count": 9,
   "metadata": {
    "collapsed": true
   },
   "outputs": [],
   "source": [
    "import numpy as np\n",
    "matrix = gensim.matutils.corpus2dense(corpus,num_terms=len(dictionary),dtype = 'int')\n",
    "matrix = matrix.T #transpose the matrix \n",
    "\n",
    "#convert the numpy matrix into pandas data frame\n",
    "matrix_df = pd.DataFrame(matrix, columns=unique_token)"
   ]
  },
  {
   "cell_type": "code",
   "execution_count": 10,
   "metadata": {
    "collapsed": true
   },
   "outputs": [],
   "source": [
    "#write matrix dataframe into csv\n",
    "matrix_df.to_csv('Wine_Term_Document_matrix.csv')"
   ]
  },
  {
   "cell_type": "markdown",
   "metadata": {},
   "source": [
    "#### a. LDA model "
   ]
  },
  {
   "cell_type": "code",
   "execution_count": 11,
   "metadata": {},
   "outputs": [
    {
     "data": {
      "text/plain": [
       "[(0,\n",
       "  '0.020*\"flavors\" + 0.016*\"palate\" + 0.013*\"wine\" + 0.012*\"notes\" + 0.012*\"finish\" + 0.012*\"aromas\" + 0.012*\"fruit\" + 0.008*\"white\" + 0.008*\"acidity\" + 0.008*\"rich\"'),\n",
       " (1,\n",
       "  '0.020*\"wine\" + 0.018*\"flavors\" + 0.016*\"aromas\" + 0.016*\"fruit\" + 0.015*\"finish\" + 0.012*\"acidity\" + 0.012*\"palate\" + 0.010*\"drink\" + 0.010*\"sweet\" + 0.008*\"apple\"'),\n",
       " (2,\n",
       "  '0.024*\"wine\" + 0.023*\"fruit\" + 0.022*\"flavors\" + 0.018*\"palate\" + 0.015*\"aromas\" + 0.012*\"acidity\" + 0.011*\"finish\" + 0.009*\"cherry\" + 0.008*\"white\" + 0.008*\"black\"'),\n",
       " (3,\n",
       "  '0.040*\"wine\" + 0.017*\"flavors\" + 0.016*\"aromas\" + 0.014*\"acidity\" + 0.014*\"drink\" + 0.014*\"fruit\" + 0.013*\"tannins\" + 0.013*\"ripe\" + 0.011*\"finish\" + 0.008*\"palate\"'),\n",
       " (4,\n",
       "  '0.017*\"wine\" + 0.016*\"finish\" + 0.015*\"fruit\" + 0.014*\"notes\" + 0.014*\"fresh\" + 0.014*\"palate\" + 0.013*\"flavors\" + 0.012*\"aromas\" + 0.011*\"acidity\" + 0.011*\"nose\"'),\n",
       " (5,\n",
       "  '0.024*\"wine\" + 0.019*\"drink\" + 0.016*\"acidity\" + 0.015*\"palate\" + 0.015*\"ripe\" + 0.014*\"flavors\" + 0.011*\"fruit\" + 0.011*\"finish\" + 0.010*\"aromas\" + 0.008*\"nose\"'),\n",
       " (6,\n",
       "  '0.021*\"palate\" + 0.017*\"cherry\" + 0.017*\"wine\" + 0.014*\"aromas\" + 0.014*\"black\" + 0.013*\"fruit\" + 0.011*\"finish\" + 0.011*\"flavors\" + 0.010*\"notes\" + 0.010*\"nose\"'),\n",
       " (7,\n",
       "  '0.033*\"wine\" + 0.016*\"acidity\" + 0.015*\"tannins\" + 0.015*\"ripe\" + 0.013*\"drink\" + 0.011*\"fruit\" + 0.011*\"palate\" + 0.010*\"spice\" + 0.010*\"flavors\" + 0.010*\"rich\"'),\n",
       " (8,\n",
       "  '0.018*\"drink\" + 0.016*\"berry\" + 0.016*\"flavors\" + 0.015*\"aromas\" + 0.013*\"palate\" + 0.013*\"tannins\" + 0.012*\"ripe\" + 0.010*\"red\" + 0.010*\"finish\" + 0.009*\"wine\"'),\n",
       " (9,\n",
       "  '0.033*\"flavors\" + 0.023*\"wine\" + 0.019*\"aromas\" + 0.017*\"fruit\" + 0.015*\"black\" + 0.010*\"cabernet\" + 0.010*\"cherry\" + 0.009*\"rich\" + 0.008*\"dry\" + 0.008*\"finish\"')]"
      ]
     },
     "execution_count": 11,
     "metadata": {},
     "output_type": "execute_result"
    }
   ],
   "source": [
    "lda = models.LdaModel(corpus, id2word=dictionary, num_topics=10) #fit lda model\n",
    "\n",
    "lda.print_topics(10) #V matrix, topic matrix"
   ]
  },
  {
   "cell_type": "code",
   "execution_count": 12,
   "metadata": {
    "collapsed": true
   },
   "outputs": [],
   "source": [
    "# Generate U Matrix for LDA model\n",
    "corpus_lda = lda[corpus] #transform lda model\n",
    "\n",
    "#convert corpus_lda to numpy matrix\n",
    "U_matrix_lda = gensim.matutils.corpus2dense(corpus_lda,num_terms=10).T\n",
    "\n",
    "#write U_matrix into pandas dataframe and output\n",
    "U_matrix_lda_df = pd.DataFrame(U_matrix_lda)\n",
    "U_matrix_lda_df.to_csv('U_matrix_lda.csv')"
   ]
  },
  {
   "cell_type": "code",
   "execution_count": 13,
   "metadata": {},
   "outputs": [
    {
     "name": "stdout",
     "output_type": "stream",
     "text": [
      "(1001, 1970)\n",
      "(1001, 10)\n"
     ]
    }
   ],
   "source": [
    "print (matrix_df.shape)\n",
    "print (U_matrix_lda_df.shape)"
   ]
  },
  {
   "cell_type": "markdown",
   "metadata": {},
   "source": [
    "#### b.LSI model "
   ]
  },
  {
   "cell_type": "code",
   "execution_count": 14,
   "metadata": {
    "collapsed": true
   },
   "outputs": [],
   "source": [
    "# Tfidf Transformation \n",
    "tfidf = models.TfidfModel(corpus) #fit tfidf model\n",
    "corpus_tfidf = tfidf[corpus]      #transform tfidf model"
   ]
  },
  {
   "cell_type": "code",
   "execution_count": 15,
   "metadata": {},
   "outputs": [
    {
     "data": {
      "text/plain": [
       "[(0,\n",
       "  '0.164*\"wine\" + 0.148*\"ripe\" + 0.146*\"drink\" + 0.146*\"acidity\" + 0.142*\"fruit\" + 0.140*\"flavors\" + 0.136*\"tannins\" + 0.135*\"black\" + 0.132*\"aromas\" + 0.129*\"palate\"'),\n",
       " (1,\n",
       "  '0.220*\"black\" + -0.194*\"citrus\" + -0.183*\"apple\" + -0.180*\"crisp\" + 0.179*\"cabernet\" + 0.178*\"cherry\" + 0.176*\"tannins\" + -0.167*\"white\" + -0.146*\"fresh\" + -0.143*\"pear\"'),\n",
       " (2,\n",
       "  '-0.233*\"fruits\" + -0.207*\"ready\" + -0.199*\"drink\" + -0.198*\"wine\" + -0.174*\"character\" + -0.168*\"rich\" + -0.164*\"ripe\" + 0.161*\"white\" + 0.150*\"palate\" + 0.147*\"aromas\"'),\n",
       " (3,\n",
       "  '-0.218*\"white\" + -0.162*\"offers\" + -0.151*\"alongside\" + -0.140*\"bright\" + 0.139*\"flavors\" + -0.137*\"tannins\" + -0.136*\"flower\" + -0.131*\"note\" + -0.123*\"fruits\" + 0.120*\"oak\"'),\n",
       " (4,\n",
       "  '0.462*\"cabernet\" + 0.355*\"sauvignon\" + 0.270*\"blend\" + 0.258*\"merlot\" + 0.202*\"franc\" + -0.159*\"black\" + -0.127*\"dark\" + 0.109*\"blanc\" + 0.102*\"lightly\" + 0.100*\"sangiovese\"'),\n",
       " (5,\n",
       "  '-0.206*\"light\" + -0.201*\"red\" + -0.182*\"fruity\" + -0.161*\"raspberry\" + -0.154*\"berry\" + 0.153*\"rich\" + -0.149*\"fresh\" + -0.148*\"cherry\" + 0.147*\"well\" + 0.147*\"peach\"'),\n",
       " (6,\n",
       "  '-0.291*\"pinot\" + -0.243*\"noir\" + -0.178*\"soft\" + 0.165*\"plum\" + 0.155*\"green\" + 0.148*\"herbal\" + -0.140*\"cherries\" + -0.130*\"cola\" + -0.127*\"elegant\" + -0.123*\"dry\"'),\n",
       " (7,\n",
       "  '0.242*\"black\" + 0.229*\"pepper\" + -0.194*\"oak\" + -0.184*\"vanilla\" + -0.164*\"toast\" + 0.159*\"well\" + -0.158*\"ripe\" + -0.150*\"berry\" + -0.129*\"soft\" + 0.127*\"bottling\"'),\n",
       " (8,\n",
       "  '-0.199*\"soft\" + -0.197*\"berry\" + -0.164*\"herbal\" + -0.156*\"full\" + 0.153*\"pinot\" + -0.144*\"earthy\" + 0.141*\"blanc\" + -0.123*\"ripe\" + -0.119*\"plum\" + 0.119*\"apple\"'),\n",
       " (9,\n",
       "  '0.172*\"soft\" + -0.162*\"white\" + 0.155*\"notes\" + 0.150*\"spice\" + -0.146*\"berry\" + 0.142*\"ripe\" + -0.128*\"pinot\" + 0.126*\"pear\" + -0.123*\"tannic\" + 0.121*\"attractive\"')]"
      ]
     },
     "execution_count": 15,
     "metadata": {},
     "output_type": "execute_result"
    }
   ],
   "source": [
    "lsi = models.LsiModel(corpus_tfidf, id2word=dictionary, num_topics=10)\n",
    "\n",
    "lsi.print_topics()"
   ]
  },
  {
   "cell_type": "code",
   "execution_count": 16,
   "metadata": {
    "collapsed": true
   },
   "outputs": [],
   "source": [
    "# Generate U Matrix for LSI model\n",
    "corpus_lsi = lsi[corpus_tfidf] #transform lda model\n",
    "\n",
    "#convert corpus_lda to numpy matrix\n",
    "U_matrix_lsi = gensim.matutils.corpus2dense(corpus_lsi,num_terms=10).T\n",
    "\n",
    "#write U_matrix into pandas dataframe and output\n",
    "pd.DataFrame(U_matrix_lsi).to_csv('U_matrix_lsi.csv')"
   ]
  },
  {
   "cell_type": "code",
   "execution_count": null,
   "metadata": {
    "collapsed": true
   },
   "outputs": [],
   "source": []
  }
 ],
 "metadata": {
  "kernelspec": {
   "display_name": "Python 3",
   "language": "python",
   "name": "python3"
  },
  "language_info": {
   "codemirror_mode": {
    "name": "ipython",
    "version": 3
   },
   "file_extension": ".py",
   "mimetype": "text/x-python",
   "name": "python",
   "nbconvert_exporter": "python",
   "pygments_lexer": "ipython3",
   "version": "3.6.3"
  }
 },
 "nbformat": 4,
 "nbformat_minor": 2
}
